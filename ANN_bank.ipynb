{
  "nbformat": 4,
  "nbformat_minor": 0,
  "metadata": {
    "colab": {
      "name": "Untitled3.ipynb",
      "version": "0.3.2",
      "provenance": [],
      "include_colab_link": true
    },
    "kernelspec": {
      "name": "python3",
      "display_name": "Python 3"
    }
  },
  "cells": [
    {
      "cell_type": "markdown",
      "metadata": {
        "id": "view-in-github",
        "colab_type": "text"
      },
      "source": [
        "<a href=\"https://colab.research.google.com/github/NiteshGupt/summer19/blob/master/ANN_bank.ipynb\" target=\"_parent\"><img src=\"https://colab.research.google.com/assets/colab-badge.svg\" alt=\"Open In Colab\"/></a>"
      ]
    },
    {
      "cell_type": "markdown",
      "metadata": {
        "id": "2iyrUhni9mha",
        "colab_type": "text"
      },
      "source": [
        "#[OPTIONAL] \n",
        "###Jump to cell number 3 if your not using Google Colab\n",
        "\n",
        "Mount to google drive.\n"
      ]
    },
    {
      "cell_type": "code",
      "metadata": {
        "id": "7utHJ3saINVI",
        "colab_type": "code",
        "outputId": "6040d4bf-14dd-4cd6-bb25-6241f3ba5cc4",
        "colab": {
          "base_uri": "https://localhost:8080/",
          "height": 121
        }
      },
      "source": [
        "from google.colab import drive\n",
        "drive.mount('/content/gdrive')"
      ],
      "execution_count": 2,
      "outputs": [
        {
          "output_type": "stream",
          "text": [
            "Go to this URL in a browser: https://accounts.google.com/o/oauth2/auth?client_id=947318989803-6bn6qk8qdgf4n4g3pfee6491hc0brc4i.apps.googleusercontent.com&redirect_uri=urn%3Aietf%3Awg%3Aoauth%3A2.0%3Aoob&scope=email%20https%3A%2F%2Fwww.googleapis.com%2Fauth%2Fdocs.test%20https%3A%2F%2Fwww.googleapis.com%2Fauth%2Fdrive%20https%3A%2F%2Fwww.googleapis.com%2Fauth%2Fdrive.photos.readonly%20https%3A%2F%2Fwww.googleapis.com%2Fauth%2Fpeopleapi.readonly&response_type=code\n",
            "\n",
            "Enter your authorization code:\n",
            "··········\n",
            "Mounted at /content/gdrive\n"
          ],
          "name": "stdout"
        }
      ]
    },
    {
      "cell_type": "markdown",
      "metadata": {
        "id": "hnJ91GJg97Hf",
        "colab_type": "text"
      },
      "source": [
        "\n",
        "\n",
        "\n",
        "\n",
        "*   Upload the **zip file** of your csv to google drive. (I have uploaded in /My Drive/Colab Notebooks/ )\n",
        "*   Then unzip the zip file.\n",
        "\n"
      ]
    },
    {
      "cell_type": "code",
      "metadata": {
        "id": "PZIPFKKwI1to",
        "colab_type": "code",
        "outputId": "25882665-1be7-44c5-f6c0-c269561fe7a4",
        "colab": {
          "base_uri": "https://localhost:8080/",
          "height": 50
        }
      },
      "source": [
        "!unzip /content/gdrive/My\\ Drive/Colab\\ Notebooks/bank.zip"
      ],
      "execution_count": 4,
      "outputs": [
        {
          "output_type": "stream",
          "text": [
            "Archive:  /content/gdrive/My Drive/Colab Notebooks/bank.zip\n",
            "  inflating: bank.csv                \n"
          ],
          "name": "stdout"
        }
      ]
    },
    {
      "cell_type": "markdown",
      "metadata": {
        "id": "18JwHzza-zdh",
        "colab_type": "text"
      },
      "source": [
        "Importing all neccessary packages."
      ]
    },
    {
      "cell_type": "code",
      "metadata": {
        "id": "Bsc2xk3gIStT",
        "colab_type": "code",
        "colab": {}
      },
      "source": [
        "import numpy as np\n",
        "import pandas as pd\n",
        "import keras\n",
        "import matplotlib.pyplot as plt\n",
        "from sklearn.preprocessing import LabelEncoder, OneHotEncoder,StandardScaler\n",
        "from sklearn.model_selection import train_test_split\n",
        "from keras import Sequential\n",
        "from keras.layers import Dense"
      ],
      "execution_count": 0,
      "outputs": []
    },
    {
      "cell_type": "code",
      "metadata": {
        "id": "9CzMjvUgMAsR",
        "colab_type": "code",
        "colab": {}
      },
      "source": [
        "df=pd.read_csv('bank.csv')"
      ],
      "execution_count": 0,
      "outputs": []
    },
    {
      "cell_type": "markdown",
      "metadata": {
        "id": "ZaZSMCDh_BNX",
        "colab_type": "text"
      },
      "source": [
        "## Extracting Features and Labels\n",
        "Get all the useful features from the dataset.\n",
        "I have **removed** the Rownumber, Surname and CustomerId "
      ]
    },
    {
      "cell_type": "code",
      "metadata": {
        "id": "xJnK7fJfMHsb",
        "colab_type": "code",
        "colab": {}
      },
      "source": [
        "features=df.iloc[0:,3:13].values\n",
        "labels=df.iloc[:,13].values"
      ],
      "execution_count": 0,
      "outputs": []
    },
    {
      "cell_type": "markdown",
      "metadata": {
        "id": "ssMOL4V1DO43",
        "colab_type": "text"
      },
      "source": [
        "Converting categorical data to Numeric data"
      ]
    },
    {
      "cell_type": "code",
      "metadata": {
        "id": "Mk1VQjC6NuIT",
        "colab_type": "code",
        "colab": {}
      },
      "source": [
        "gender=LabelEncoder()\n",
        "features[:,2]=gender.fit_transform(features[:,2])"
      ],
      "execution_count": 0,
      "outputs": []
    },
    {
      "cell_type": "code",
      "metadata": {
        "id": "Nb-rlqFtP0HM",
        "colab_type": "code",
        "colab": {}
      },
      "source": [
        "country=LabelEncoder()\n",
        "features[:,1]=country.fit_transform(features[:,1])"
      ],
      "execution_count": 0,
      "outputs": []
    },
    {
      "cell_type": "markdown",
      "metadata": {
        "id": "UB9Ame_RDe_B",
        "colab_type": "text"
      },
      "source": [
        "**Split the country column into 3 dummy columns**\n",
        "\n",
        "like: France --> [1,0,0], Germany --> [0,1,0], Spain --> [0,0,1]\n"
      ]
    },
    {
      "cell_type": "code",
      "metadata": {
        "id": "yhfxB39NSlCL",
        "colab_type": "code",
        "colab": {
          "base_uri": "https://localhost:8080/",
          "height": 138
        },
        "outputId": "fa7d5e83-8b86-4b0a-8225-8a5c3284675c"
      },
      "source": [
        "countrydummy=OneHotEncoder(categorical_features=[1])\n",
        "features=countrydummy.fit_transform(features).toarray()\n",
        "\n"
      ],
      "execution_count": 138,
      "outputs": [
        {
          "output_type": "stream",
          "text": [
            "/usr/local/lib/python3.6/dist-packages/sklearn/preprocessing/_encoders.py:415: FutureWarning: The handling of integer data will change in version 0.22. Currently, the categories are determined based on the range [0, max(values)], while in the future they will be determined based on the unique values.\n",
            "If you want the future behaviour and silence this warning, you can specify \"categories='auto'\".\n",
            "In case you used a LabelEncoder before this OneHotEncoder to convert the categories to integers, then you can now use the OneHotEncoder directly.\n",
            "  warnings.warn(msg, FutureWarning)\n",
            "/usr/local/lib/python3.6/dist-packages/sklearn/preprocessing/_encoders.py:451: DeprecationWarning: The 'categorical_features' keyword is deprecated in version 0.20 and will be removed in 0.22. You can use the ColumnTransformer instead.\n",
            "  \"use the ColumnTransformer instead.\", DeprecationWarning)\n"
          ],
          "name": "stderr"
        }
      ]
    },
    {
      "cell_type": "code",
      "metadata": {
        "id": "5n0HAARtWA-O",
        "colab_type": "code",
        "colab": {
          "base_uri": "https://localhost:8080/",
          "height": 34
        },
        "outputId": "a79910d9-ce6d-46f0-b444-fc435689ebe2"
      },
      "source": [
        "features=features[:,1:]\n",
        "len(features[0])"
      ],
      "execution_count": 140,
      "outputs": [
        {
          "output_type": "execute_result",
          "data": {
            "text/plain": [
              "11"
            ]
          },
          "metadata": {
            "tags": []
          },
          "execution_count": 140
        }
      ]
    },
    {
      "cell_type": "markdown",
      "metadata": {
        "id": "hFOEtvEsEAPb",
        "colab_type": "text"
      },
      "source": [
        "**Split the data into Training set and Testing set.**"
      ]
    },
    {
      "cell_type": "code",
      "metadata": {
        "id": "zCXhAIW56bME",
        "colab_type": "code",
        "colab": {}
      },
      "source": [
        "x_train,x_test,y_train,y_test=train_test_split(features,labels,test_size=0.25)"
      ],
      "execution_count": 0,
      "outputs": []
    },
    {
      "cell_type": "markdown",
      "metadata": {
        "id": "lcOE1NZJEN90",
        "colab_type": "text"
      },
      "source": [
        "**Feature Scaling** to bring the columns value into a specific range."
      ]
    },
    {
      "cell_type": "code",
      "metadata": {
        "id": "cRKZmvUz6eCo",
        "colab_type": "code",
        "colab": {}
      },
      "source": [
        "sc=StandardScaler()\n",
        "x_train=sc.fit_transform(x_train)\n",
        "x_train=sc.fit_transform(x_train)"
      ],
      "execution_count": 0,
      "outputs": []
    },
    {
      "cell_type": "markdown",
      "metadata": {
        "id": "dA1kreZpGh56",
        "colab_type": "text"
      },
      "source": [
        "## Creating ANN "
      ]
    },
    {
      "cell_type": "code",
      "metadata": {
        "id": "Vh8-bZwFA1mD",
        "colab_type": "code",
        "colab": {}
      },
      "source": [
        "model=Sequential()"
      ],
      "execution_count": 0,
      "outputs": []
    },
    {
      "cell_type": "code",
      "metadata": {
        "id": "gvjuzIBwA7_V",
        "colab_type": "code",
        "colab": {}
      },
      "source": [
        "model.add(Dense(6,activation='relu',input_shape=(11,)))\n",
        "model.add(Dense(1,activation='sigmoid'))"
      ],
      "execution_count": 0,
      "outputs": []
    },
    {
      "cell_type": "code",
      "metadata": {
        "id": "Lj_cfT_NBV6v",
        "colab_type": "code",
        "colab": {}
      },
      "source": [
        "model.compile(optimizer='adam',loss='binary_crossentropy',metrics=['accuracy'])"
      ],
      "execution_count": 0,
      "outputs": []
    },
    {
      "cell_type": "code",
      "metadata": {
        "id": "Gova8lq_HozE",
        "colab_type": "code",
        "colab": {
          "base_uri": "https://localhost:8080/",
          "height": 3394
        },
        "outputId": "94859333-6d63-49ce-b0c5-5edf573659dc"
      },
      "source": [
        "model.fit(x_train,y_train,epochs=100,batch_size=8)"
      ],
      "execution_count": 147,
      "outputs": [
        {
          "output_type": "stream",
          "text": [
            "Epoch 1/100\n",
            "7500/7500 [==============================] - 1s 200us/step - loss: 0.5128 - acc: 0.7633\n",
            "Epoch 2/100\n",
            "7500/7500 [==============================] - 1s 141us/step - loss: 0.4372 - acc: 0.8087\n",
            "Epoch 3/100\n",
            "7500/7500 [==============================] - 1s 140us/step - loss: 0.4221 - acc: 0.8192\n",
            "Epoch 4/100\n",
            "7500/7500 [==============================] - 1s 140us/step - loss: 0.4068 - acc: 0.8304\n",
            "Epoch 5/100\n",
            "7500/7500 [==============================] - 1s 143us/step - loss: 0.3911 - acc: 0.8431\n",
            "Epoch 6/100\n",
            "7500/7500 [==============================] - 1s 141us/step - loss: 0.3774 - acc: 0.8471\n",
            "Epoch 7/100\n",
            "7500/7500 [==============================] - 1s 144us/step - loss: 0.3672 - acc: 0.8524\n",
            "Epoch 8/100\n",
            "7500/7500 [==============================] - 1s 142us/step - loss: 0.3601 - acc: 0.8557\n",
            "Epoch 9/100\n",
            "7500/7500 [==============================] - 1s 143us/step - loss: 0.3558 - acc: 0.8559\n",
            "Epoch 10/100\n",
            "7500/7500 [==============================] - 1s 141us/step - loss: 0.3528 - acc: 0.8584\n",
            "Epoch 11/100\n",
            "7500/7500 [==============================] - 1s 144us/step - loss: 0.3510 - acc: 0.8565\n",
            "Epoch 12/100\n",
            "7500/7500 [==============================] - 1s 145us/step - loss: 0.3497 - acc: 0.8568\n",
            "Epoch 13/100\n",
            "7500/7500 [==============================] - 1s 142us/step - loss: 0.3486 - acc: 0.8589\n",
            "Epoch 14/100\n",
            "7500/7500 [==============================] - 1s 143us/step - loss: 0.3481 - acc: 0.8580\n",
            "Epoch 15/100\n",
            "7500/7500 [==============================] - 1s 141us/step - loss: 0.3474 - acc: 0.8571\n",
            "Epoch 16/100\n",
            "7500/7500 [==============================] - 1s 142us/step - loss: 0.3469 - acc: 0.8589\n",
            "Epoch 17/100\n",
            "7500/7500 [==============================] - 1s 140us/step - loss: 0.3466 - acc: 0.8596\n",
            "Epoch 18/100\n",
            "7500/7500 [==============================] - 1s 143us/step - loss: 0.3462 - acc: 0.8577\n",
            "Epoch 19/100\n",
            "7500/7500 [==============================] - 1s 144us/step - loss: 0.3460 - acc: 0.8589\n",
            "Epoch 20/100\n",
            "7500/7500 [==============================] - 1s 141us/step - loss: 0.3457 - acc: 0.8573\n",
            "Epoch 21/100\n",
            "7500/7500 [==============================] - 1s 144us/step - loss: 0.3456 - acc: 0.8581\n",
            "Epoch 22/100\n",
            "7500/7500 [==============================] - 1s 145us/step - loss: 0.3454 - acc: 0.8592\n",
            "Epoch 23/100\n",
            "7500/7500 [==============================] - 1s 143us/step - loss: 0.3447 - acc: 0.8584\n",
            "Epoch 24/100\n",
            "7500/7500 [==============================] - 1s 141us/step - loss: 0.3450 - acc: 0.8588\n",
            "Epoch 25/100\n",
            "7500/7500 [==============================] - 1s 145us/step - loss: 0.3451 - acc: 0.8592\n",
            "Epoch 26/100\n",
            "7500/7500 [==============================] - 1s 146us/step - loss: 0.3447 - acc: 0.8587\n",
            "Epoch 27/100\n",
            "7500/7500 [==============================] - 1s 144us/step - loss: 0.3449 - acc: 0.8592\n",
            "Epoch 28/100\n",
            "7500/7500 [==============================] - 1s 144us/step - loss: 0.3443 - acc: 0.8596\n",
            "Epoch 29/100\n",
            "7500/7500 [==============================] - 1s 144us/step - loss: 0.3445 - acc: 0.8583\n",
            "Epoch 30/100\n",
            "7500/7500 [==============================] - 1s 144us/step - loss: 0.3443 - acc: 0.8589\n",
            "Epoch 31/100\n",
            "7500/7500 [==============================] - 1s 145us/step - loss: 0.3438 - acc: 0.8579\n",
            "Epoch 32/100\n",
            "7500/7500 [==============================] - 1s 147us/step - loss: 0.3438 - acc: 0.8607\n",
            "Epoch 33/100\n",
            "7500/7500 [==============================] - 1s 144us/step - loss: 0.3438 - acc: 0.8588\n",
            "Epoch 34/100\n",
            "7500/7500 [==============================] - 1s 143us/step - loss: 0.3437 - acc: 0.8595\n",
            "Epoch 35/100\n",
            "7500/7500 [==============================] - 1s 143us/step - loss: 0.3435 - acc: 0.8591\n",
            "Epoch 36/100\n",
            "7500/7500 [==============================] - 1s 140us/step - loss: 0.3433 - acc: 0.8617\n",
            "Epoch 37/100\n",
            "7500/7500 [==============================] - 1s 143us/step - loss: 0.3438 - acc: 0.8605\n",
            "Epoch 38/100\n",
            "7500/7500 [==============================] - 1s 142us/step - loss: 0.3435 - acc: 0.8583\n",
            "Epoch 39/100\n",
            "7500/7500 [==============================] - 1s 145us/step - loss: 0.3437 - acc: 0.8604\n",
            "Epoch 40/100\n",
            "7500/7500 [==============================] - 1s 144us/step - loss: 0.3434 - acc: 0.8612\n",
            "Epoch 41/100\n",
            "7500/7500 [==============================] - 1s 145us/step - loss: 0.3433 - acc: 0.8592\n",
            "Epoch 42/100\n",
            "7500/7500 [==============================] - 1s 144us/step - loss: 0.3432 - acc: 0.8615\n",
            "Epoch 43/100\n",
            "7500/7500 [==============================] - 1s 145us/step - loss: 0.3434 - acc: 0.8581\n",
            "Epoch 44/100\n",
            "7500/7500 [==============================] - 1s 146us/step - loss: 0.3429 - acc: 0.8588\n",
            "Epoch 45/100\n",
            "7500/7500 [==============================] - 1s 144us/step - loss: 0.3431 - acc: 0.8603\n",
            "Epoch 46/100\n",
            "7500/7500 [==============================] - 1s 143us/step - loss: 0.3430 - acc: 0.8600\n",
            "Epoch 47/100\n",
            "7500/7500 [==============================] - 1s 144us/step - loss: 0.3430 - acc: 0.8605\n",
            "Epoch 48/100\n",
            "7500/7500 [==============================] - 1s 145us/step - loss: 0.3430 - acc: 0.8609\n",
            "Epoch 49/100\n",
            "7500/7500 [==============================] - 1s 144us/step - loss: 0.3431 - acc: 0.8609\n",
            "Epoch 50/100\n",
            "7500/7500 [==============================] - 1s 143us/step - loss: 0.3426 - acc: 0.8607\n",
            "Epoch 51/100\n",
            "7500/7500 [==============================] - 1s 145us/step - loss: 0.3431 - acc: 0.8593\n",
            "Epoch 52/100\n",
            "7500/7500 [==============================] - 1s 145us/step - loss: 0.3426 - acc: 0.8607\n",
            "Epoch 53/100\n",
            "7500/7500 [==============================] - 1s 144us/step - loss: 0.3430 - acc: 0.8620\n",
            "Epoch 54/100\n",
            "7500/7500 [==============================] - 1s 144us/step - loss: 0.3424 - acc: 0.8612\n",
            "Epoch 55/100\n",
            "7500/7500 [==============================] - 1s 144us/step - loss: 0.3426 - acc: 0.8607\n",
            "Epoch 56/100\n",
            "7500/7500 [==============================] - 1s 142us/step - loss: 0.3426 - acc: 0.8629\n",
            "Epoch 57/100\n",
            "7500/7500 [==============================] - 1s 144us/step - loss: 0.3423 - acc: 0.8616\n",
            "Epoch 58/100\n",
            "7500/7500 [==============================] - 1s 143us/step - loss: 0.3425 - acc: 0.8599\n",
            "Epoch 59/100\n",
            "7500/7500 [==============================] - 1s 144us/step - loss: 0.3424 - acc: 0.8601\n",
            "Epoch 60/100\n",
            "7500/7500 [==============================] - 1s 145us/step - loss: 0.3425 - acc: 0.8619\n",
            "Epoch 61/100\n",
            "7500/7500 [==============================] - 1s 146us/step - loss: 0.3419 - acc: 0.8643\n",
            "Epoch 62/100\n",
            "7500/7500 [==============================] - 1s 145us/step - loss: 0.3420 - acc: 0.8625\n",
            "Epoch 63/100\n",
            "7500/7500 [==============================] - 1s 144us/step - loss: 0.3422 - acc: 0.8623\n",
            "Epoch 64/100\n",
            "7500/7500 [==============================] - 1s 144us/step - loss: 0.3422 - acc: 0.8607\n",
            "Epoch 65/100\n",
            "7500/7500 [==============================] - 1s 144us/step - loss: 0.3421 - acc: 0.8612\n",
            "Epoch 66/100\n",
            "7500/7500 [==============================] - 1s 142us/step - loss: 0.3421 - acc: 0.8628\n",
            "Epoch 67/100\n",
            "7500/7500 [==============================] - 1s 143us/step - loss: 0.3422 - acc: 0.8617\n",
            "Epoch 68/100\n",
            "7500/7500 [==============================] - 1s 142us/step - loss: 0.3424 - acc: 0.8631\n",
            "Epoch 69/100\n",
            "7500/7500 [==============================] - 1s 145us/step - loss: 0.3421 - acc: 0.8612\n",
            "Epoch 70/100\n",
            "7500/7500 [==============================] - 1s 144us/step - loss: 0.3418 - acc: 0.8628\n",
            "Epoch 71/100\n",
            "7500/7500 [==============================] - 1s 147us/step - loss: 0.3419 - acc: 0.8608\n",
            "Epoch 72/100\n",
            "7500/7500 [==============================] - 1s 143us/step - loss: 0.3420 - acc: 0.8616\n",
            "Epoch 73/100\n",
            "7500/7500 [==============================] - 1s 144us/step - loss: 0.3419 - acc: 0.8608\n",
            "Epoch 74/100\n",
            "7500/7500 [==============================] - 1s 144us/step - loss: 0.3418 - acc: 0.8615\n",
            "Epoch 75/100\n",
            "7500/7500 [==============================] - 1s 145us/step - loss: 0.3420 - acc: 0.8636\n",
            "Epoch 76/100\n",
            "7500/7500 [==============================] - 1s 144us/step - loss: 0.3418 - acc: 0.8619\n",
            "Epoch 77/100\n",
            "7500/7500 [==============================] - 1s 143us/step - loss: 0.3417 - acc: 0.8620\n",
            "Epoch 78/100\n",
            "7500/7500 [==============================] - 1s 143us/step - loss: 0.3416 - acc: 0.8601\n",
            "Epoch 79/100\n",
            "7500/7500 [==============================] - 1s 142us/step - loss: 0.3419 - acc: 0.8616\n",
            "Epoch 80/100\n",
            "7500/7500 [==============================] - 1s 143us/step - loss: 0.3416 - acc: 0.8628\n",
            "Epoch 81/100\n",
            "7500/7500 [==============================] - 1s 142us/step - loss: 0.3417 - acc: 0.8608\n",
            "Epoch 82/100\n",
            "7500/7500 [==============================] - 1s 143us/step - loss: 0.3415 - acc: 0.8595\n",
            "Epoch 83/100\n",
            "7500/7500 [==============================] - 1s 143us/step - loss: 0.3417 - acc: 0.8639\n",
            "Epoch 84/100\n",
            "7500/7500 [==============================] - 1s 144us/step - loss: 0.3415 - acc: 0.8619\n",
            "Epoch 85/100\n",
            "7500/7500 [==============================] - 1s 142us/step - loss: 0.3415 - acc: 0.8615\n",
            "Epoch 86/100\n",
            "7500/7500 [==============================] - 1s 143us/step - loss: 0.3418 - acc: 0.8608\n",
            "Epoch 87/100\n",
            "7500/7500 [==============================] - 1s 143us/step - loss: 0.3416 - acc: 0.8627\n",
            "Epoch 88/100\n",
            "7500/7500 [==============================] - 1s 144us/step - loss: 0.3413 - acc: 0.8604\n",
            "Epoch 89/100\n",
            "7500/7500 [==============================] - 1s 143us/step - loss: 0.3415 - acc: 0.8635\n",
            "Epoch 90/100\n",
            "7500/7500 [==============================] - 1s 144us/step - loss: 0.3411 - acc: 0.8627\n",
            "Epoch 91/100\n",
            "7500/7500 [==============================] - 1s 143us/step - loss: 0.3409 - acc: 0.8627\n",
            "Epoch 92/100\n",
            "7500/7500 [==============================] - 1s 143us/step - loss: 0.3412 - acc: 0.8611\n",
            "Epoch 93/100\n",
            "7500/7500 [==============================] - 1s 143us/step - loss: 0.3405 - acc: 0.8628\n",
            "Epoch 94/100\n",
            "7500/7500 [==============================] - 1s 144us/step - loss: 0.3416 - acc: 0.8615\n",
            "Epoch 95/100\n",
            "7500/7500 [==============================] - 1s 141us/step - loss: 0.3410 - acc: 0.8631\n",
            "Epoch 96/100\n",
            "7500/7500 [==============================] - 1s 142us/step - loss: 0.3409 - acc: 0.8612\n",
            "Epoch 97/100\n",
            "7500/7500 [==============================] - 1s 145us/step - loss: 0.3411 - acc: 0.8615\n",
            "Epoch 98/100\n",
            "7500/7500 [==============================] - 1s 143us/step - loss: 0.3412 - acc: 0.8620\n",
            "Epoch 99/100\n",
            "7500/7500 [==============================] - 1s 145us/step - loss: 0.3410 - acc: 0.8608\n",
            "Epoch 100/100\n",
            "7500/7500 [==============================] - 1s 144us/step - loss: 0.3412 - acc: 0.8628\n"
          ],
          "name": "stdout"
        },
        {
          "output_type": "execute_result",
          "data": {
            "text/plain": [
              "<keras.callbacks.History at 0x7f1046284dd8>"
            ]
          },
          "metadata": {
            "tags": []
          },
          "execution_count": 147
        }
      ]
    },
    {
      "cell_type": "code",
      "metadata": {
        "id": "ebq7HXX6RS7z",
        "colab_type": "code",
        "colab": {}
      },
      "source": [
        "y_pred=model.predict(x_test)"
      ],
      "execution_count": 0,
      "outputs": []
    },
    {
      "cell_type": "code",
      "metadata": {
        "id": "Ds08aw3UW94U",
        "colab_type": "code",
        "colab": {
          "base_uri": "https://localhost:8080/",
          "height": 67
        },
        "outputId": "804dc673-ae92-47af-811d-11910a58e386"
      },
      "source": [
        ""
      ],
      "execution_count": 164,
      "outputs": [
        {
          "output_type": "execute_result",
          "data": {
            "text/plain": [
              "array([0.0000000e+00, 1.0000000e+00, 8.3600000e+02, 0.0000000e+00,\n",
              "       4.1000000e+01, 7.0000000e+00, 1.5030284e+05, 1.0000000e+00,\n",
              "       1.0000000e+00, 1.0000000e+00, 1.5603619e+05])"
            ]
          },
          "metadata": {
            "tags": []
          },
          "execution_count": 164
        }
      ]
    },
    {
      "cell_type": "code",
      "metadata": {
        "id": "8zN8_DGNanRo",
        "colab_type": "code",
        "colab": {}
      },
      "source": [
        ""
      ],
      "execution_count": 0,
      "outputs": []
    }
  ]
}