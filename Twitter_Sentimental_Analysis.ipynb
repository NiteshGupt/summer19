{
  "nbformat": 4,
  "nbformat_minor": 0,
  "metadata": {
    "colab": {
      "name": "Untitled0.ipynb",
      "version": "0.3.2",
      "provenance": [],
      "include_colab_link": true
    },
    "kernelspec": {
      "name": "python3",
      "display_name": "Python 3"
    }
  },
  "cells": [
    {
      "cell_type": "markdown",
      "metadata": {
        "id": "view-in-github",
        "colab_type": "text"
      },
      "source": [
        "<a href=\"https://colab.research.google.com/github/NiteshGupt/summer19/blob/master/Twitter_Sentimental_Analysis.ipynb\" target=\"_parent\"><img src=\"https://colab.research.google.com/assets/colab-badge.svg\" alt=\"Open In Colab\"/></a>"
      ]
    },
    {
      "cell_type": "code",
      "metadata": {
        "id": "IAGQJYDtZsLt",
        "colab_type": "code",
        "colab": {}
      },
      "source": [
        "\n",
        "import tweepy\n",
        "import time\n",
        "import matplotlib.pyplot as plt\n",
        "from textblob import TextBlob"
      ],
      "execution_count": 0,
      "outputs": []
    },
    {
      "cell_type": "code",
      "metadata": {
        "id": "KkhI2KB5ZvXj",
        "colab_type": "code",
        "colab": {}
      },
      "source": [
        "ca=\"Qoco1RsKA2pmguoYqPZfxrQ7P\"\n",
        "cs=\"GXWj5fHDmXtiMCtzrW1upIBeChWhwc6OwrLCMMsIsOzwnbNsNZ\""
      ],
      "execution_count": 0,
      "outputs": []
    },
    {
      "cell_type": "code",
      "metadata": {
        "id": "RCxGjR3ZaXSB",
        "colab_type": "code",
        "colab": {}
      },
      "source": [
        "aa=\"381335824-wu9h5pXTW3wV5dj5N8cgUZXPMe0MngOBxHeP7DWM\"\n",
        "ass=\"05ziIgoK92wtvtPvYcudnjJsUMSbs8OjSxmjFBnAyp2PU\""
      ],
      "execution_count": 0,
      "outputs": []
    },
    {
      "cell_type": "code",
      "metadata": {
        "id": "yFkT-uw_agBJ",
        "colab_type": "code",
        "colab": {}
      },
      "source": [
        "auth=tweepy.OAuthHandler(ca,cs)\n",
        "auth.set_access_token(aa,ass)"
      ],
      "execution_count": 0,
      "outputs": []
    },
    {
      "cell_type": "code",
      "metadata": {
        "id": "L-b9l4LRbBLY",
        "colab_type": "code",
        "colab": {}
      },
      "source": [
        "api_connect=tweepy.API(auth)"
      ],
      "execution_count": 0,
      "outputs": []
    },
    {
      "cell_type": "code",
      "metadata": {
        "id": "7yNinA3xbL1M",
        "colab_type": "code",
        "colab": {
          "base_uri": "https://localhost:8080/",
          "height": 118
        },
        "outputId": "7e1ee743-d386-4d22-e258-31816cbf6082"
      },
      "source": [
        "tweets=api_connect.search('virat',count=10)\n",
        "pos=0\n",
        "neg=0\n",
        "neu=0\n",
        "for tweet in tweets:\n",
        "  analysis=TextBlob(tweet.text)\n",
        "  print(analysis.sentiment)\n",
        "  if analysis.sentiment.polarity >0:\n",
        "    pos+=1\n",
        "  elif analysis.sentiment.polarity ==0:\n",
        "    neu+=1\n",
        "  else:\n",
        "    neg+=1\n",
        "print(pos,neg,neu)"
      ],
      "execution_count": 14,
      "outputs": [
        {
          "output_type": "stream",
          "text": [
            "Sentiment(polarity=0.06666666666666667, subjectivity=1.0)\n",
            "Sentiment(polarity=0.5, subjectivity=1.0)\n",
            "Sentiment(polarity=0.0, subjectivity=0.0)\n",
            "Sentiment(polarity=0.0, subjectivity=0.0)\n",
            "Sentiment(polarity=0.10000000000000002, subjectivity=0.3833333333333333)\n",
            "3 0 2\n"
          ],
          "name": "stdout"
        }
      ]
    },
    {
      "cell_type": "code",
      "metadata": {
        "id": "J1865GRzbysC",
        "colab_type": "code",
        "colab": {
          "base_uri": "https://localhost:8080/",
          "height": 283
        },
        "outputId": "18fa2fb2-a832-40d8-9399-7b048dbc089f"
      },
      "source": [
        "plt.xlabel(\"sentiment\")\n",
        "plt.ylabel(\"count\")\n",
        "plt.bar(['positive','negative','neutral'],[pos,neg,neu])\n",
        "plt.show()"
      ],
      "execution_count": 16,
      "outputs": [
        {
          "output_type": "display_data",
          "data": {
            "image/png": "[encoded data removed]",
            "text/plain": [
              "<Figure size 432x288 with 1 Axes>"
            ]
          },
          "metadata": {
            "tags": []
          }
        }
      ]
    },
    {
      "cell_type": "code",
      "metadata": {
        "id": "wQwPF4I0clO-",
        "colab_type": "code",
        "colab": {}
      },
      "source": [
        ""
      ],
      "execution_count": 0,
      "outputs": []
    }
  ]
}