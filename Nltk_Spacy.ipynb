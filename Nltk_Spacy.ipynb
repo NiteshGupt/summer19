{
  "nbformat": 4,
  "nbformat_minor": 0,
  "metadata": {
    "colab": {
      "name": "Nltk-Spacy.ipynb",
      "version": "0.3.2",
      "provenance": [],
      "include_colab_link": true
    },
    "kernelspec": {
      "name": "python3",
      "display_name": "Python 3"
    }
  },
  "cells": [
    {
      "cell_type": "markdown",
      "metadata": {
        "id": "view-in-github",
        "colab_type": "text"
      },
      "source": [
        "<a href=\"https://colab.research.google.com/github/NiteshGupt/summer19/blob/master/Nltk_Spacy.ipynb\" target=\"_parent\"><img src=\"https://colab.research.google.com/assets/colab-badge.svg\" alt=\"Open In Colab\"/></a>"
      ]
    },
    {
      "cell_type": "code",
      "metadata": {
        "id": "tjKnyLu-BB-E",
        "colab_type": "code",
        "colab": {}
      },
      "source": [
        "import nltk"
      ],
      "execution_count": 0,
      "outputs": []
    },
    {
      "cell_type": "code",
      "metadata": {
        "id": "op6kpmD1BJUM",
        "colab_type": "code",
        "colab": {}
      },
      "source": [
        "from nltk.corpus import stopwords"
      ],
      "execution_count": 0,
      "outputs": []
    },
    {
      "cell_type": "code",
      "metadata": {
        "id": "FQEahF_BBMQB",
        "colab_type": "code",
        "colab": {}
      },
      "source": [
        "\n",
        "badword=stopwords.words('english')"
      ],
      "execution_count": 0,
      "outputs": []
    },
    {
      "cell_type": "code",
      "metadata": {
        "id": "5yazJSM_Caea",
        "colab_type": "code",
        "outputId": "67ac1798-0516-4572-aaf8-ded3b8317f3c",
        "colab": {
          "base_uri": "https://localhost:8080/",
          "height": 34
        }
      },
      "source": [
        "stopwords"
      ],
      "execution_count": 71,
      "outputs": [
        {
          "output_type": "execute_result",
          "data": {
            "text/plain": [
              "<WordListCorpusReader in '/root/nltk_data/corpora/stopwords'>"
            ]
          },
          "metadata": {
            "tags": []
          },
          "execution_count": 71
        }
      ]
    },
    {
      "cell_type": "code",
      "metadata": {
        "id": "YEoeeMKqCbgI",
        "colab_type": "code",
        "colab": {}
      },
      "source": [
        "from nltk.tokenize import sent_tokenize,word_tokenize"
      ],
      "execution_count": 0,
      "outputs": []
    },
    {
      "cell_type": "code",
      "metadata": {
        "id": "aY9mMXneDErM",
        "colab_type": "code",
        "colab": {}
      },
      "source": [
        "from nltk.stem import WordNetLemmatizer\n",
        "from nltk.stem import PorterStemmer\n"
      ],
      "execution_count": 0,
      "outputs": []
    },
    {
      "cell_type": "code",
      "metadata": {
        "id": "hT5D9k40DZD_",
        "colab_type": "code",
        "colab": {}
      },
      "source": [
        "data='I am the boss. Sagar is Guddu Bhaiya. And he wants to take bath'"
      ],
      "execution_count": 0,
      "outputs": []
    },
    {
      "cell_type": "code",
      "metadata": {
        "id": "wBGc7ac8DyrQ",
        "colab_type": "code",
        "colab": {}
      },
      "source": [
        "wtoken=word_tokenize(data)"
      ],
      "execution_count": 0,
      "outputs": []
    },
    {
      "cell_type": "code",
      "metadata": {
        "id": "2VRjpukQD8km",
        "colab_type": "code",
        "colab": {}
      },
      "source": [
        "new_words=[i for i in wtoken if i.lower() not in badword+[',',\".\"]]"
      ],
      "execution_count": 0,
      "outputs": []
    },
    {
      "cell_type": "code",
      "metadata": {
        "id": "Jmy9tSKUE4dS",
        "colab_type": "code",
        "colab": {}
      },
      "source": [
        "ps=PorterStemmer()\n",
        "wl=WordNetLemmatizer()"
      ],
      "execution_count": 0,
      "outputs": []
    },
    {
      "cell_type": "code",
      "metadata": {
        "id": "je2qhosKFzEc",
        "colab_type": "code",
        "outputId": "50b9a2eb-4c2f-4ea5-c69b-cb7e7bb17300",
        "colab": {
          "base_uri": "https://localhost:8080/",
          "height": 252
        }
      },
      "source": [
        "for i in new_words:\n",
        "  print(\"Stemming of \"+i+\" is \"+ps.stem(i))\n",
        "  print(\"Lemmatization of \"+i+\" is \"+wl.lemmatize(i))"
      ],
      "execution_count": 78,
      "outputs": [
        {
          "output_type": "stream",
          "text": [
            "Stemming of boss is boss\n",
            "Lemmatization of boss is bos\n",
            "Stemming of Sagar is sagar\n",
            "Lemmatization of Sagar is Sagar\n",
            "Stemming of Guddu is guddu\n",
            "Lemmatization of Guddu is Guddu\n",
            "Stemming of Bhaiya is bhaiya\n",
            "Lemmatization of Bhaiya is Bhaiya\n",
            "Stemming of wants is want\n",
            "Lemmatization of wants is want\n",
            "Stemming of take is take\n",
            "Lemmatization of take is take\n",
            "Stemming of bath is bath\n",
            "Lemmatization of bath is bath\n"
          ],
          "name": "stdout"
        }
      ]
    },
    {
      "cell_type": "code",
      "metadata": {
        "id": "defzkQi5F-b2",
        "colab_type": "code",
        "colab": {}
      },
      "source": [
        "import spacy"
      ],
      "execution_count": 0,
      "outputs": []
    },
    {
      "cell_type": "code",
      "metadata": {
        "id": "z5PMPK6hIsmx",
        "colab_type": "code",
        "colab": {}
      },
      "source": [
        "nlp=spacy.load('en')"
      ],
      "execution_count": 0,
      "outputs": []
    },
    {
      "cell_type": "code",
      "metadata": {
        "id": "1RtUrpyAIwBi",
        "colab_type": "code",
        "colab": {}
      },
      "source": [
        "p_data=nlp(data)"
      ],
      "execution_count": 0,
      "outputs": []
    },
    {
      "cell_type": "code",
      "metadata": {
        "id": "hQYxYi7wI1zt",
        "colab_type": "code",
        "outputId": "db498d81-ba3a-41ce-9023-6d3565b43bba",
        "colab": {
          "base_uri": "https://localhost:8080/",
          "height": 554
        }
      },
      "source": [
        "for i in p_data:\n",
        "  print(i,\"-------->LEmma: \",i.lemma_)\n",
        "  print(\"Pos: \", i.pos_)"
      ],
      "execution_count": 82,
      "outputs": [
        {
          "output_type": "stream",
          "text": [
            "I -------->LEmma:  -PRON-\n",
            "Pos:  PRON\n",
            "am -------->LEmma:  be\n",
            "Pos:  VERB\n",
            "the -------->LEmma:  the\n",
            "Pos:  DET\n",
            "boss -------->LEmma:  boss\n",
            "Pos:  NOUN\n",
            ". -------->LEmma:  .\n",
            "Pos:  PUNCT\n",
            "Sagar -------->LEmma:  Sagar\n",
            "Pos:  PROPN\n",
            "is -------->LEmma:  be\n",
            "Pos:  VERB\n",
            "Guddu -------->LEmma:  Guddu\n",
            "Pos:  PROPN\n",
            "Bhaiya -------->LEmma:  Bhaiya\n",
            "Pos:  PROPN\n",
            ". -------->LEmma:  .\n",
            "Pos:  PUNCT\n",
            "And -------->LEmma:  and\n",
            "Pos:  CCONJ\n",
            "he -------->LEmma:  -PRON-\n",
            "Pos:  PRON\n",
            "wants -------->LEmma:  want\n",
            "Pos:  VERB\n",
            "to -------->LEmma:  to\n",
            "Pos:  PART\n",
            "take -------->LEmma:  take\n",
            "Pos:  VERB\n",
            "bath -------->LEmma:  bath\n",
            "Pos:  NOUN\n"
          ],
          "name": "stdout"
        }
      ]
    },
    {
      "cell_type": "code",
      "metadata": {
        "id": "gkuaqILpI7kh",
        "colab_type": "code",
        "colab": {}
      },
      "source": [
        ""
      ],
      "execution_count": 0,
      "outputs": []
    }
  ]
}